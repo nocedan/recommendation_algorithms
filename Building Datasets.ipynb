{
 "cells": [
  {
   "cell_type": "code",
   "execution_count": 1,
   "metadata": {},
   "outputs": [],
   "source": [
    "import os\n",
    "import zipfile\n",
    "import csv"
   ]
  },
  {
   "cell_type": "code",
   "execution_count": 2,
   "metadata": {},
   "outputs": [],
   "source": [
    "import requests"
   ]
  },
  {
   "cell_type": "code",
   "execution_count": 3,
   "metadata": {},
   "outputs": [],
   "source": [
    "def _download(url: str, dest_path: str):\n",
    "    req = requests.get(url, stream = True)\n",
    "    req.raise_for_status()\n",
    "    \n",
    "    with open(dest_path, \"wb\") as fd:\n",
    "        for chunk in req.iter_content(chunk_size = 2 ** 20):\n",
    "            fd.write(chunk)"
   ]
  },
  {
   "cell_type": "code",
   "execution_count": 7,
   "metadata": {},
   "outputs": [],
   "source": [
    "def get_data():\n",
    "    \n",
    "    ratings_url = (\"http://www2.informatik.uni-freiburg.de/\" \"~cziegler/BX/BX-CSV-Dump.zip\")\n",
    "    \n",
    "    if not os.path.exists(\"data\"):\n",
    "        os.makedirs(\"data\")\n",
    "        \n",
    "        _download(ratings_url, \"data/data.zip\")\n",
    "        \n",
    "    with zipfile.ZipFile(\"data/data.zip\") as archive:\n",
    "        return (\n",
    "            csv.DictReader(\n",
    "                (x.decode(\"utf-8\", \"ignore\") for x in archive.open(\"BX-Book-Ratings.csv\")), delimiter=\";\"),\n",
    "            csv.DictReader(\n",
    "                (x.decode(\"utf-8\", \"ignore\") for x in archive.open(\"BX-Books.csv\")), delimiter=\";\"),\n",
    "        )\n",
    "    \n",
    "def get_ratings():\n",
    "    return get_data()[0]\n",
    "\n",
    "def get_book_features():\n",
    "    return get_data()[1]"
   ]
  },
  {
   "cell_type": "code",
   "execution_count": 8,
   "metadata": {},
   "outputs": [],
   "source": [
    "import json\n",
    "from itertools import islice"
   ]
  },
  {
   "cell_type": "code",
   "execution_count": 9,
   "metadata": {},
   "outputs": [],
   "source": [
    "ratings, book_features = get_data()"
   ]
  },
  {
   "cell_type": "code",
   "execution_count": 23,
   "metadata": {},
   "outputs": [
    {
     "name": "stdout",
     "output_type": "stream",
     "text": [
      "{\n",
      "    \"User-ID\": \"276747\",\n",
      "    \"ISBN\": \"0609801279\",\n",
      "    \"Book-Rating\": \"0\"\n",
      "}\n",
      "{\n",
      "    \"User-ID\": \"276747\",\n",
      "    \"ISBN\": \"0671537458\",\n",
      "    \"Book-Rating\": \"9\"\n",
      "}\n",
      "{\n",
      "    \"User-ID\": \"276747\",\n",
      "    \"ISBN\": \"0679776818\",\n",
      "    \"Book-Rating\": \"8\"\n",
      "}\n"
     ]
    }
   ],
   "source": [
    "for line in islice(ratings,3):\n",
    "    print(json.dumps(line, indent = 4 ))"
   ]
  },
  {
   "cell_type": "code",
   "execution_count": 24,
   "metadata": {},
   "outputs": [
    {
     "name": "stdout",
     "output_type": "stream",
     "text": [
      "{\n",
      "    \"ISBN\": \"0195153448\",\n",
      "    \"Book-Title\": \"Classical Mythology\",\n",
      "    \"Book-Author\": \"Mark P. O. Morford\",\n",
      "    \"Year-Of-Publication\": \"2002\",\n",
      "    \"Publisher\": \"Oxford University Press\",\n",
      "    \"Image-URL-S\": \"http://images.amazon.com/images/P/0195153448.01.THUMBZZZ.jpg\",\n",
      "    \"Image-URL-M\": \"http://images.amazon.com/images/P/0195153448.01.MZZZZZZZ.jpg\",\n",
      "    \"Image-URL-L\": \"http://images.amazon.com/images/P/0195153448.01.LZZZZZZZ.jpg\"\n",
      "}\n"
     ]
    }
   ],
   "source": [
    "for line in islice(book_features, 1):\n",
    "    print(json.dumps(line, indent = 4))"
   ]
  },
  {
   "cell_type": "code",
   "execution_count": null,
   "metadata": {},
   "outputs": [],
   "source": []
  }
 ],
 "metadata": {
  "kernelspec": {
   "display_name": "Python 3",
   "language": "python",
   "name": "python3"
  },
  "language_info": {
   "codemirror_mode": {
    "name": "ipython",
    "version": 3
   },
   "file_extension": ".py",
   "mimetype": "text/x-python",
   "name": "python",
   "nbconvert_exporter": "python",
   "pygments_lexer": "ipython3",
   "version": "3.6.5"
  }
 },
 "nbformat": 4,
 "nbformat_minor": 2
}
