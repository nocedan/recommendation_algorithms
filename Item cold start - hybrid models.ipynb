{
 "cells": [
  {
   "cell_type": "markdown",
   "metadata": {},
   "source": [
    "# Item cold start: Stackexchange dataset"
   ]
  },
  {
   "cell_type": "markdown",
   "metadata": {},
   "source": [
    "### Comment:\n",
    "\n",
    "- What about learning curves: bias and variance x (dataset size, regularization parameter), loss x learning rate?\n",
    "- theres a problem with documentation code for auc_score in test for hybrid model\n",
    "- Create item embeddings representation and find similar items"
   ]
  },
  {
   "cell_type": "code",
   "execution_count": 3,
   "metadata": {},
   "outputs": [],
   "source": [
    "import numpy as np\n",
    "\n",
    "from lightfm.datasets import fetch_stackexchange\n",
    "\n",
    "data = fetch_stackexchange('crossvalidated', \n",
    "                           test_set_fraction = 0.1, \n",
    "                           indicator_features = False, \n",
    "                           tag_features= True)\n",
    "\n",
    "train = data['train']\n",
    "test = data['test']"
   ]
  },
  {
   "cell_type": "code",
   "execution_count": 5,
   "metadata": {},
   "outputs": [
    {
     "name": "stdout",
     "output_type": "stream",
     "text": [
      "Dataset has 3221 users and 72360 items, with 57830 interactions in train and 4307 interactions in test.\n"
     ]
    }
   ],
   "source": [
    "# The train, test are chronologically divided, hence, there are many non-answered questions\n",
    "print('Dataset has %s users and %s items, '\n",
    "     'with %s interactions in train and %s interactions in test.'\n",
    "     % (train.shape[0], train.shape[1], train.getnnz(), test.getnnz()))"
   ]
  },
  {
   "cell_type": "markdown",
   "metadata": {},
   "source": [
    "### Pure Collaborative Filtering Model"
   ]
  },
  {
   "cell_type": "code",
   "execution_count": 14,
   "metadata": {},
   "outputs": [
    {
     "name": "stdout",
     "output_type": "stream",
     "text": [
      "CPU times: user 1.09 s, sys: 11.8 ms, total: 1.1 s\n",
      "Wall time: 318 ms\n"
     ]
    },
    {
     "data": {
      "text/plain": [
       "<lightfm.lightfm.LightFM at 0x7f9a4160a0b8>"
      ]
     },
     "execution_count": 14,
     "metadata": {},
     "output_type": "execute_result"
    }
   ],
   "source": [
    "from lightfm import LightFM\n",
    "\n",
    "NUM_THREADS = 4\n",
    "NUM_COMPONENTS = 30\n",
    "NUM_EPOCHS = 6\n",
    "ITEM_ALPHA = 1e-6\n",
    "\n",
    "#warp model\n",
    "model = LightFM(loss = 'warp',\n",
    "               item_alpha = ITEM_ALPHA,\n",
    "               no_components = NUM_COMPONENTS)\n",
    "\n",
    "%time model.fit(train, epochs = NUM_EPOCHS, num_threads = NUM_THREADS)"
   ]
  },
  {
   "cell_type": "code",
   "execution_count": 15,
   "metadata": {},
   "outputs": [
    {
     "name": "stdout",
     "output_type": "stream",
     "text": [
      "Collaborative Filtering train auc: 0.97278005\n"
     ]
    }
   ],
   "source": [
    "from lightfm.evaluation import auc_score\n",
    "train_auc = auc_score(model, train, num_threads = NUM_THREADS).mean()\n",
    "print('Collaborative Filtering train auc: %s' % train_auc)"
   ]
  },
  {
   "cell_type": "code",
   "execution_count": 16,
   "metadata": {},
   "outputs": [
    {
     "name": "stdout",
     "output_type": "stream",
     "text": [
      "Collaborative Filtering test auc: 0.35952914\n"
     ]
    }
   ],
   "source": [
    "test_auc = auc_score(model, test, num_threads = NUM_THREADS).mean()\n",
    "print('Collaborative Filtering test auc: %s' % test_auc)"
   ]
  },
  {
   "cell_type": "code",
   "execution_count": 18,
   "metadata": {},
   "outputs": [
    {
     "name": "stdout",
     "output_type": "stream",
     "text": [
      "Collaborative Filtering test auc: 0.51151264\n"
     ]
    }
   ],
   "source": [
    "model.item_biases *=0\n",
    "test_auc = auc_score(model, test, num_threads = NUM_THREADS).mean()\n",
    "print('Collaborative Filtering test auc: %s' % test_auc)"
   ]
  },
  {
   "cell_type": "markdown",
   "metadata": {},
   "source": [
    "### A Hybrid model"
   ]
  },
  {
   "cell_type": "code",
   "execution_count": 21,
   "metadata": {},
   "outputs": [
    {
     "name": "stdout",
     "output_type": "stream",
     "text": [
      "There are 1246 distinct tags, with values like ['bayesian', 'prior', 'elicitation']\n"
     ]
    }
   ],
   "source": [
    "item_features = data['item_features']\n",
    "tag_labels = data['item_feature_labels']\n",
    "\n",
    "print('There are %s distinct tags, with values like %s'\n",
    "      % (item_features.shape[1], tag_labels[:3].tolist()))"
   ]
  },
  {
   "cell_type": "code",
   "execution_count": 36,
   "metadata": {},
   "outputs": [],
   "source": [
    "model = LightFM(loss= 'warp',\n",
    "                item_alpha = ITEM_ALPHA, \n",
    "                no_components=NUM_COMPONENTS)\n",
    "\n",
    "model = model.fit(train, item_features= item_features,\n",
    "                 epochs= NUM_EPOCHS, num_threads = NUM_THREADS)"
   ]
  },
  {
   "cell_type": "code",
   "execution_count": 50,
   "metadata": {},
   "outputs": [
    {
     "name": "stdout",
     "output_type": "stream",
     "text": [
      "Hybrid training auc: 0.8997756\n",
      "Hybrid test set AUC: 0.71544963\n"
     ]
    }
   ],
   "source": [
    "#item_features again ... strange\n",
    "train_auc = auc_score(model, train,\n",
    "                      item_features = item_features,\n",
    "                      num_threads=NUM_THREADS).mean()\n",
    "print('Hybrid training auc: %s' % train_auc)\n",
    "\n",
    "test_auc = auc_score(model,\n",
    "                    test,\n",
    "                    train_interactions=train,\n",
    "                    item_features=item_features,\n",
    "                    num_threads=NUM_THREADS, check_intersections=False).mean()\n",
    "\n",
    "print('Hybrid test set AUC: %s' % test_auc)"
   ]
  },
  {
   "cell_type": "code",
   "execution_count": 47,
   "metadata": {},
   "outputs": [
    {
     "name": "stdout",
     "output_type": "stream",
     "text": [
      "Hybrid training auc: 0.009003416\n",
      "Hybrid test set AUC: 0.0031716418\n"
     ]
    }
   ],
   "source": [
    "from lightfm.evaluation import precision_at_k\n",
    "#item_features again ... strange\n",
    "train_pk = precision_at_k(model, train,\n",
    "                      item_features = item_features, k=10,\n",
    "                      num_threads=NUM_THREADS).mean()\n",
    "print('Hybrid training auc: %s' % train_pk)\n",
    "\n",
    "test_pk = precision_at_k(model,\n",
    "                    test,\n",
    "                    train_interactions=train,\n",
    "                    item_features=item_features, k=10,\n",
    "                    num_threads=NUM_THREADS, check_intersections=False).mean()\n",
    "\n",
    "print('Hybrid test set precision_at_k: %s' % test_pk)"
   ]
  },
  {
   "cell_type": "code",
   "execution_count": 48,
   "metadata": {},
   "outputs": [
    {
     "name": "stdout",
     "output_type": "stream",
     "text": [
      "Hybrid training auc: 0.00962684662991416\n",
      "Hybrid test set recall_at_k: 0.0037591968035629287\n"
     ]
    }
   ],
   "source": [
    "from lightfm.evaluation import recall_at_k\n",
    "#item_features again ... strange\n",
    "train_rk = recall_at_k(model, train,\n",
    "                      item_features = item_features, k=10,\n",
    "                      num_threads=NUM_THREADS).mean()\n",
    "print('Hybrid training auc: %s' % train_rk)\n",
    "\n",
    "test_rk = recall_at_k(model,\n",
    "                    test,\n",
    "                    train_interactions=train,\n",
    "                    item_features=item_features, k=10,\n",
    "                    num_threads=NUM_THREADS, check_intersections=False).mean()\n",
    "\n",
    "print('Hybrid test set recall_at_k: %s' % test_rk)"
   ]
  },
  {
   "cell_type": "markdown",
   "metadata": {},
   "source": [
    "### Tag embeddings"
   ]
  },
  {
   "cell_type": "code",
   "execution_count": 57,
   "metadata": {},
   "outputs": [
    {
     "name": "stdout",
     "output_type": "stream",
     "text": [
      "Most similar tags for bayesian: ['prior' 'mcmc' 'metropolis-hastings']\n",
      "Most similar tags for regression: ['down-sample' 'segmented-regression' 'regression-coefficients']\n",
      "Most similar tags for survival: ['cox-model' 'hazard' 'epidemiology']\n"
     ]
    }
   ],
   "source": [
    "def get_similar_tags(model, tag_id):\n",
    "    #Define similarity as cosine of the angle\n",
    "    #between tag latent vectors\n",
    "    \n",
    "    # Normalize the vectors to unity lenght\n",
    "    tag_embeddings = (model.item_embeddings.T\n",
    "                    / np.linalg.norm(model.item_embeddings, axis=1)).T\n",
    "    query_embedding = tag_embeddings[tag_id]\n",
    "    similarity = np.dot(tag_embeddings, query_embedding)\n",
    "    most_similar = np.argsort(-similarity)[1:4]\n",
    "    return most_similar\n",
    "\n",
    "for tag in (u'bayesian', u'regression', u'survival'):\n",
    "    tag_id = tag_labels.tolist().index(tag)\n",
    "    print('Most similar tags for %s: %s' % (tag_labels[tag_id], tag_labels[get_similar_tags(model,tag_id)] ))"
   ]
  }
 ],
 "metadata": {
  "kernelspec": {
   "display_name": "Python 3",
   "language": "python",
   "name": "python3"
  },
  "language_info": {
   "codemirror_mode": {
    "name": "ipython",
    "version": 3
   },
   "file_extension": ".py",
   "mimetype": "text/x-python",
   "name": "python",
   "nbconvert_exporter": "python",
   "pygments_lexer": "ipython3",
   "version": "3.6.5"
  }
 },
 "nbformat": 4,
 "nbformat_minor": 2
}
