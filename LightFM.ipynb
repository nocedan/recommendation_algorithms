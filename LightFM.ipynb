{
 "cells": [
  {
   "cell_type": "markdown",
   "metadata": {},
   "source": [
    "# LightFM quick start with Movielens 100k dataset"
   ]
  },
  {
   "cell_type": "markdown",
   "metadata": {},
   "source": [
    "### Comment\n",
    "\n",
    "Two unexpected features:\n",
    "- Train and Test division in a rather non-homogeneous way for movielens dataset leaving to a variation on performance\n",
    "- The comparison for one example considers 3 examples on train, wich excludes many possibilities for comparison\n",
    "- Learning rate schedules: what if we wanted to see the loss curve. Is precision_at_k and auc equivalent?"
   ]
  },
  {
   "cell_type": "code",
   "execution_count": 47,
   "metadata": {},
   "outputs": [],
   "source": [
    "# Using MAC or Windows will give you the following warning\n",
    "%matplotlib inline\n",
    "\n",
    "import matplotlib\n",
    "import numpy as np\n",
    "import matplotlib.pyplot as plt\n",
    "\n",
    "from lightfm import LightFM\n",
    "from lightfm.datasets import fetch_movielens\n",
    "from lightfm.evaluation import precision_at_k, recall_at_k,auc_score"
   ]
  },
  {
   "cell_type": "code",
   "execution_count": 38,
   "metadata": {},
   "outputs": [
    {
     "name": "stdout",
     "output_type": "stream",
     "text": [
      "<943x1682 sparse matrix of type '<class 'numpy.int32'>'\n",
      "\twith 90570 stored elements in COOrdinate format>\n",
      "<943x1682 sparse matrix of type '<class 'numpy.int32'>'\n",
      "\twith 9430 stored elements in COOrdinate format>\n"
     ]
    }
   ],
   "source": [
    "# Load the movielens 100k dataset. Only\n",
    "# five star ratings are treated as positive.\n",
    "data = fetch_movielens(min_rating = 0)\n",
    "print(repr(data['train']))\n",
    "print(repr(data['test']))"
   ]
  },
  {
   "cell_type": "code",
   "execution_count": 39,
   "metadata": {},
   "outputs": [
    {
     "data": {
      "text/plain": [
       "array([ True,  True,  True, ...,  True,  True,  True])"
      ]
     },
     "execution_count": 39,
     "metadata": {},
     "output_type": "execute_result"
    }
   ],
   "source": [
    "x = data['train']==5\n",
    "x.data"
   ]
  },
  {
   "cell_type": "code",
   "execution_count": 40,
   "metadata": {},
   "outputs": [],
   "source": [
    "for value in (data['train']==5).data:\n",
    "    if value != True:\n",
    "        print('lol')"
   ]
  },
  {
   "cell_type": "markdown",
   "metadata": {},
   "source": [
    "- WARP (Weighted Approximate-Rank Pairwise) model ~ optimizes precision_at_k\n",
    "- BPR: Bayesian Personalised Ranking pairwise loss ~ optimizes ROC AUC\n",
    "\n",
    "Model training is accomplished via SGD (stochastic gradient descent)"
   ]
  },
  {
   "cell_type": "code",
   "execution_count": 41,
   "metadata": {
    "scrolled": true
   },
   "outputs": [
    {
     "name": "stdout",
     "output_type": "stream",
     "text": [
      "CPU times: user 8.3 s, sys: 0 ns, total: 8.3 s\n",
      "Wall time: 2.08 s\n",
      "Train precision: 0.65\n",
      "Test precision: 0.24\n",
      "\n",
      "Train recall: 0.14\n",
      "Test recall: 0.24\n",
      "\n",
      "Train auc_score: 0.95\n",
      "Test auc_score: 0.94\n"
     ]
    }
   ],
   "source": [
    "# Instantiate and train the model\n",
    "model = LightFM(loss= 'warp')\n",
    "# epochs is the number of passings through data\n",
    "%time model.fit(data['train'], epochs=60, num_threads=4)\n",
    "\n",
    "# Evaluate the trained model\n",
    "print(\"Train precision: %.2f\" % precision_at_k(model, data['train'], k=10).mean())\n",
    "print(\"Test precision: %.2f\" % precision_at_k(model, data['test'],data['train'], k=10).mean())\n",
    "print()\n",
    "#recall_at_k\n",
    "print(\"Train recall: %.2f\" % recall_at_k(model, data['train'], k=10).mean())\n",
    "print(\"Test recall: %.2f\" % recall_at_k(model, data['test'],data['train'], k=10).mean())\n",
    "print()\n",
    "#auc_score\n",
    "print(\"Train auc_score: %.2f\" % auc_score(model, data['train']).mean())\n",
    "print(\"Test auc_score: %.2f\" % auc_score(model, data['test'],data['train']).mean())"
   ]
  },
  {
   "cell_type": "code",
   "execution_count": 42,
   "metadata": {},
   "outputs": [
    {
     "name": "stdout",
     "output_type": "stream",
     "text": [
      "CPU times: user 7.77 s, sys: 0 ns, total: 7.77 s\n",
      "Wall time: 1.95 s\n",
      "Train precision: 0.62\n",
      "Test precision: 0.18\n",
      "\n",
      "Train recall: 0.12\n",
      "Test recall: 0.18\n",
      "\n",
      "Train auc_score: 0.92\n",
      "Test auc_score: 0.89\n"
     ]
    }
   ],
   "source": [
    "# Instantiate and train the model\n",
    "model = LightFM(loss= 'bpr')\n",
    "# epochs is the number of passings through data\n",
    "%time model.fit(data['train'], epochs=60, num_threads=4)\n",
    "\n",
    "# Evaluate the trained model\n",
    "print(\"Train precision: %.2f\" % precision_at_k(model, data['train'], k=10).mean())\n",
    "print(\"Test precision: %.2f\" % precision_at_k(model, data['test'],data['train'], k=10).mean())\n",
    "print()\n",
    "#recall_at_k\n",
    "print(\"Train recall: %.2f\" % recall_at_k(model, data['train'], k=10).mean())\n",
    "print(\"Test recall: %.2f\" % recall_at_k(model, data['test'],data['train'], k=10).mean())\n",
    "print()\n",
    "#auc_score\n",
    "print(\"Train auc_score: %.2f\" % auc_score(model, data['train']).mean())\n",
    "print(\"Test auc_score: %.2f\" % auc_score(model, data['test'],data['train']).mean())"
   ]
  },
  {
   "cell_type": "code",
   "execution_count": 43,
   "metadata": {},
   "outputs": [
    {
     "name": "stdout",
     "output_type": "stream",
     "text": [
      "User 0\n",
      "     Known positives:\n",
      "        Toy Story (1995)\n",
      "        GoldenEye (1995)\n",
      "        Four Rooms (1995)\n",
      "     Recommended:\n",
      "        Star Wars (1977)\n",
      "        Pulp Fiction (1994)\n",
      "        Raiders of the Lost Ark (1981)\n",
      "        Monty Python and the Holy Grail (1974)\n",
      "        Silence of the Lambs, The (1991)\n",
      "        Twelve Monkeys (1995)\n",
      "        Raising Arizona (1987)\n",
      "        Fish Called Wanda, A (1988)\n",
      "        Willy Wonka and the Chocolate Factory (1971)\n",
      "        Fargo (1996)\n",
      "     1.0\n"
     ]
    }
   ],
   "source": [
    "def sample_recommendation(model, data, user_ids):\n",
    "\n",
    "\n",
    "    n_users, n_items = data['train'].shape\n",
    "\n",
    "    for user_id in user_ids:\n",
    "        known_positives = data['item_labels'][data['train'].tocsr()[user_id].indices]\n",
    "\n",
    "        scores = model.predict(user_id, np.arange(n_items))\n",
    "        top_items = data['item_labels'][np.argsort(-scores)]\n",
    "\n",
    "        print(\"User %s\" % user_id)\n",
    "        print(\"     Known positives:\")\n",
    "\n",
    "        for x in known_positives[:3]:\n",
    "            print(\"        %s\" % x)\n",
    "\n",
    "        print(\"     Recommended:\")\n",
    "\n",
    "        for x in top_items[:10]:\n",
    "            print(\"        %s\" % x)\n",
    "            \n",
    "        print(\"     %s\" % (len([t for t in top_items[:10] if t in known_positives])/10) )\n",
    "\n",
    "sample_recommendation(model, data, [0])"
   ]
  },
  {
   "cell_type": "code",
   "execution_count": 44,
   "metadata": {},
   "outputs": [
    {
     "data": {
      "text/plain": [
       "<943x1682 sparse matrix of type '<class 'numpy.float32'>'\n",
       "\twith 90570 stored elements in COOrdinate format>"
      ]
     },
     "execution_count": 44,
     "metadata": {},
     "output_type": "execute_result"
    }
   ],
   "source": [
    "data['train']"
   ]
  },
  {
   "cell_type": "code",
   "execution_count": 45,
   "metadata": {},
   "outputs": [
    {
     "data": {
      "text/plain": [
       "76192"
      ]
     },
     "execution_count": 45,
     "metadata": {},
     "output_type": "execute_result"
    }
   ],
   "source": [
    "import numpy as np\n",
    "19048*np.float32(5).nbytes"
   ]
  },
  {
   "cell_type": "code",
   "execution_count": 46,
   "metadata": {},
   "outputs": [
    {
     "data": {
      "text/plain": [
       "scipy.sparse.coo.coo_matrix"
      ]
     },
     "execution_count": 46,
     "metadata": {},
     "output_type": "execute_result"
    }
   ],
   "source": [
    "type(data['train'])"
   ]
  },
  {
   "cell_type": "markdown",
   "metadata": {},
   "source": [
    "### Learning Schedules"
   ]
  },
  {
   "cell_type": "code",
   "execution_count": 49,
   "metadata": {},
   "outputs": [],
   "source": [
    "movielens = fetch_movielens()\n",
    "train, test = movielens['train'], movielens['test']"
   ]
  },
  {
   "cell_type": "code",
   "execution_count": 78,
   "metadata": {},
   "outputs": [
    {
     "name": "stdout",
     "output_type": "stream",
     "text": [
      "CPU times: user 1min 17s, sys: 27.1 ms, total: 1min 17s\n",
      "Wall time: 45.4 s\n"
     ]
    }
   ],
   "source": [
    "%%time\n",
    "\n",
    "alpha = 1e-3 # l2 regularization parameter\n",
    "epochs = 70\n",
    "\n",
    "adagrad_model = LightFM(no_components = 30,\n",
    "                       loss = 'warp',\n",
    "                        learning_schedule = 'adagrad',\n",
    "                       user_alpha = alpha,\n",
    "                       item_alpha = alpha)\n",
    "\n",
    "adadelta_model = LightFM(no_components = 30,\n",
    "                       loss = 'warp',\n",
    "                        learning_schedule = 'adadelta',\n",
    "                         user_alpha = alpha,\n",
    "                       item_alpha = alpha)\n",
    "adagrad_auc = []\n",
    "adagrad_pk = []\n",
    "\n",
    "for epoch in range(epochs):\n",
    "    adagrad_model.fit_partial(train, epochs=1, num_threads=4)\n",
    "    adagrad_auc.append(auc_score(adagrad_model,test).mean())\n",
    "    adagrad_pk.append(precision_at_k(adagrad_model,test,k=10).mean())\n",
    "\n",
    "adadelta_auc = []\n",
    "adadelta_pk = []\n",
    "for epoch in range(epochs):\n",
    "    adadelta_model.fit_partial(train, epochs=1, num_threads=4)\n",
    "    adadelta_auc.append(auc_score(adadelta_model,test).mean())\n",
    "    adadelta_pk.append(precision_at_k(adadelta_model,test,k=10).mean())"
   ]
  },
  {
   "cell_type": "code",
   "execution_count": 76,
   "metadata": {},
   "outputs": [
    {
     "data": {
      "image/png": "[encoded data removed]",
      "text/plain": [
       "<Figure size 432x288 with 1 Axes>"
      ]
     },
     "metadata": {},
     "output_type": "display_data"
    }
   ],
   "source": [
    "x= np.arange(len(adagrad_auc))\n",
    "plt.plot(x,np.array(adagrad_auc))\n",
    "plt.plot(x,np.array(adadelta_auc))\n",
    "plt.legend(['adagrad', 'adadelta'], loc = 'lower right')\n",
    "plt.show()"
   ]
  },
  {
   "cell_type": "code",
   "execution_count": 79,
   "metadata": {},
   "outputs": [
    {
     "data": {
      "image/png": "[encoded data removed]",
      "text/plain": [
       "<Figure size 432x288 with 1 Axes>"
      ]
     },
     "metadata": {},
     "output_type": "display_data"
    }
   ],
   "source": [
    "x= np.arange(len(adagrad_pk))\n",
    "plt.plot(x,np.array(adagrad_pk))\n",
    "plt.plot(x,np.array(adadelta_pk))\n",
    "plt.legend(['adagrad', 'adadelta'], loc = 'lower right')\n",
    "plt.show()"
   ]
  },
  {
   "cell_type": "markdown",
   "metadata": {},
   "source": [
    "### Item cold-start"
   ]
  },
  {
   "cell_type": "code",
   "execution_count": null,
   "metadata": {},
   "outputs": [],
   "source": []
  }
 ],
 "metadata": {
  "kernelspec": {
   "display_name": "Python 3",
   "language": "python",
   "name": "python3"
  },
  "language_info": {
   "codemirror_mode": {
    "name": "ipython",
    "version": 3
   },
   "file_extension": ".py",
   "mimetype": "text/x-python",
   "name": "python",
   "nbconvert_exporter": "python",
   "pygments_lexer": "ipython3",
   "version": "3.6.5"
  }
 },
 "nbformat": 4,
 "nbformat_minor": 2
}
