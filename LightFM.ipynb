{
 "cells": [
  {
   "cell_type": "markdown",
   "metadata": {},
   "source": [
    "# LightFM quick start with Movielens 100k dataset"
   ]
  },
  {
   "cell_type": "markdown",
   "metadata": {},
   "source": [
    "### Comment\n",
    "\n",
    "Two unexpected features:\n",
    "- Train and Test division in a rather non-homogeneous way for movielens dataset leaving to a variation on performance\n",
    "- The comparison for one example considers 3 examples on train, wich excludes many possibilities for comparison"
   ]
  },
  {
   "cell_type": "code",
   "execution_count": 1,
   "metadata": {},
   "outputs": [],
   "source": [
    "# Using MAC or Windows will give you the following warning\n",
    "import numpy as np\n",
    "from lightfm import LightFM\n",
    "from lightfm.datasets import fetch_movielens\n",
    "from lightfm.evaluation import precision_at_k, recall_at_k,auc_score"
   ]
  },
  {
   "cell_type": "code",
   "execution_count": 2,
   "metadata": {},
   "outputs": [],
   "source": [
    "# Load the movielens 100k dataset. Only\n",
    "# five star ratings are treated as positive.\n",
    "data = fetch_movielens(min_rating = 5.0)"
   ]
  },
  {
   "cell_type": "code",
   "execution_count": 37,
   "metadata": {},
   "outputs": [
    {
     "name": "stdout",
     "output_type": "stream",
     "text": [
      "<943x1682 sparse matrix of type '<class 'numpy.float32'>'\n",
      "\twith 19048 stored elements in COOrdinate format>\n",
      "<943x1682 sparse matrix of type '<class 'numpy.int32'>'\n",
      "\twith 2153 stored elements in COOrdinate format>\n"
     ]
    }
   ],
   "source": [
    "print(repr(data['train']))\n",
    "print(repr(data['test']))"
   ]
  },
  {
   "cell_type": "markdown",
   "metadata": {},
   "source": [
    "WARP (Weighted Approximate-Rank Pairwise) model\n",
    "\n",
    "Model training is accomplished via SGD (stochastic gradient descent)"
   ]
  },
  {
   "cell_type": "code",
   "execution_count": 50,
   "metadata": {
    "scrolled": true
   },
   "outputs": [
    {
     "name": "stdout",
     "output_type": "stream",
     "text": [
      "CPU times: user 1.21 s, sys: 0 ns, total: 1.21 s\n",
      "Wall time: 307 ms\n"
     ]
    },
    {
     "data": {
      "text/plain": [
       "<lightfm.lightfm.LightFM at 0x7f20e7812588>"
      ]
     },
     "execution_count": 50,
     "metadata": {},
     "output_type": "execute_result"
    }
   ],
   "source": [
    "# Instantiate and train the model\n",
    "model = LightFM(loss= 'warp')\n",
    "# epochs is the number of passings through data\n",
    "%time model.fit(data['train'], epochs=60, num_threads=4)"
   ]
  },
  {
   "cell_type": "code",
   "execution_count": 51,
   "metadata": {},
   "outputs": [
    {
     "name": "stdout",
     "output_type": "stream",
     "text": [
      "Train precision: 0.37\n",
      "Test precision: 0.06\n",
      "\n",
      "Train recall: 0.36\n",
      "Test recall: 0.22\n",
      "\n",
      "Train auc_score: 0.98\n",
      "Test auc_score: 0.92\n"
     ]
    }
   ],
   "source": [
    "# Evaluate the trained model\n",
    "print(\"Train precision: %.2f\" % precision_at_k(model, data['train'], k=10).mean())\n",
    "print(\"Test precision: %.2f\" % precision_at_k(model, data['test'],data['train'], k=10).mean())\n",
    "print()\n",
    "#recall_at_k\n",
    "print(\"Train recall: %.2f\" % recall_at_k(model, data['train'], k=10).mean())\n",
    "print(\"Test recall: %.2f\" % recall_at_k(model, data['test'],data['train'], k=10).mean())\n",
    "print()\n",
    "#auc_score\n",
    "print(\"Train auc_score: %.2f\" % auc_score(model, data['train']).mean())\n",
    "print(\"Test auc_score: %.2f\" % auc_score(model, data['test'],data['train']).mean())"
   ]
  },
  {
   "cell_type": "code",
   "execution_count": 52,
   "metadata": {},
   "outputs": [
    {
     "name": "stdout",
     "output_type": "stream",
     "text": [
      "User 0\n",
      "     Known positives:\n",
      "        Toy Story (1995)\n",
      "        Shanghai Triad (Yao a yao yao dao waipo qiao) (1995)\n",
      "        Dead Man Walking (1995)\n",
      "     Recommended:\n",
      "        Close Shave, A (1995)\n",
      "        Twelve Monkeys (1995)\n",
      "        Usual Suspects, The (1995)\n",
      "        Fargo (1996)\n",
      "        Chasing Amy (1997)\n",
      "        Bound (1996)\n",
      "        Wrong Trousers, The (1993)\n",
      "        Shawshank Redemption, The (1994)\n",
      "        City of Lost Children, The (1995)\n",
      "        Clerks (1994)\n",
      "     0.7\n"
     ]
    }
   ],
   "source": [
    "def sample_recommendation(model, data, user_ids):\n",
    "\n",
    "\n",
    "    n_users, n_items = data['train'].shape\n",
    "\n",
    "    for user_id in user_ids:\n",
    "        known_positives = data['item_labels'][data['train'].tocsr()[user_id].indices]\n",
    "\n",
    "        scores = model.predict(user_id, np.arange(n_items))\n",
    "        top_items = data['item_labels'][np.argsort(-scores)]\n",
    "\n",
    "        print(\"User %s\" % user_id)\n",
    "        print(\"     Known positives:\")\n",
    "\n",
    "        for x in known_positives[:3]:\n",
    "            print(\"        %s\" % x)\n",
    "\n",
    "        print(\"     Recommended:\")\n",
    "\n",
    "        for x in top_items[:10]:\n",
    "            print(\"        %s\" % x)\n",
    "            \n",
    "        print(\"     %s\" % (len([t for t in top_items[:10] if t in known_positives])/10) )\n",
    "\n",
    "sample_recommendation(model, data, [0])"
   ]
  },
  {
   "cell_type": "code",
   "execution_count": 53,
   "metadata": {},
   "outputs": [
    {
     "data": {
      "text/plain": [
       "<943x1682 sparse matrix of type '<class 'numpy.float32'>'\n",
       "\twith 19048 stored elements in COOrdinate format>"
      ]
     },
     "execution_count": 53,
     "metadata": {},
     "output_type": "execute_result"
    }
   ],
   "source": [
    "data['train']"
   ]
  },
  {
   "cell_type": "code",
   "execution_count": 54,
   "metadata": {},
   "outputs": [
    {
     "data": {
      "text/plain": [
       "76192"
      ]
     },
     "execution_count": 54,
     "metadata": {},
     "output_type": "execute_result"
    }
   ],
   "source": [
    "import numpy as np\n",
    "19048*np.float32(5).nbytes"
   ]
  },
  {
   "cell_type": "code",
   "execution_count": 55,
   "metadata": {},
   "outputs": [
    {
     "data": {
      "text/plain": [
       "scipy.sparse.coo.coo_matrix"
      ]
     },
     "execution_count": 55,
     "metadata": {},
     "output_type": "execute_result"
    }
   ],
   "source": [
    "type(data['train'])"
   ]
  },
  {
   "cell_type": "code",
   "execution_count": null,
   "metadata": {},
   "outputs": [],
   "source": []
  },
  {
   "cell_type": "code",
   "execution_count": null,
   "metadata": {},
   "outputs": [],
   "source": []
  },
  {
   "cell_type": "code",
   "execution_count": null,
   "metadata": {},
   "outputs": [],
   "source": []
  }
 ],
 "metadata": {
  "kernelspec": {
   "display_name": "Python 3",
   "language": "python",
   "name": "python3"
  },
  "language_info": {
   "codemirror_mode": {
    "name": "ipython",
    "version": 3
   },
   "file_extension": ".py",
   "mimetype": "text/x-python",
   "name": "python",
   "nbconvert_exporter": "python",
   "pygments_lexer": "ipython3",
   "version": "3.6.5"
  }
 },
 "nbformat": 4,
 "nbformat_minor": 2
}
